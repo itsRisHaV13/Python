{
 "cells": [
  {
   "cell_type": "code",
   "execution_count": null,
   "metadata": {},
   "outputs": [],
   "source": [
    "import pyautogui as p\n",
    "import time\n",
    "time.sleep(3)\n",
    "p.typewrite(\"\"\" \"\"\")"
   ]
  },
  {
   "cell_type": "code",
   "execution_count": 9,
   "metadata": {},
   "outputs": [
    {
     "data": {
      "text/plain": [
       "[2, 0]"
      ]
     },
     "execution_count": 9,
     "metadata": {},
     "output_type": "execute_result"
    }
   ],
   "source": [
    "digits=[1,9]\n",
    "str1=\"\"\n",
    "for i in digits:\n",
    "    str1+=str(i)\n",
    "num=int(str1)\n",
    "num+=1\n",
    "\n",
    "l=[int(i) for i in str(num)]\n",
    "\n",
    "# l=[]\n",
    "# for i in str(num):\n",
    "#     l.append(int(i))\n",
    "\n",
    "l"
   ]
  },
  {
   "cell_type": "code",
   "execution_count": 20,
   "metadata": {},
   "outputs": [
    {
     "name": "stdout",
     "output_type": "stream",
     "text": [
      "3\n"
     ]
    },
    {
     "data": {
      "text/plain": [
       "[0, 1, 3, 0, 4]"
      ]
     },
     "execution_count": 20,
     "metadata": {},
     "output_type": "execute_result"
    }
   ],
   "source": [
    "nums=[0,1,2,2,3,0,4,2]\n",
    "val=2\n",
    "l=len(nums)\n",
    "c=0\n",
    "for i in range(l):\n",
    "    if nums[i]==val:\n",
    "        c+=1\n",
    "print(c)\n",
    "while c!=0:\n",
    "    nums.remove(val)\n",
    "    c-=1\n",
    "nums"
   ]
  },
  {
   "cell_type": "code",
   "execution_count": 36,
   "metadata": {},
   "outputs": [
    {
     "data": {
      "text/plain": [
       "0"
      ]
     },
     "execution_count": 36,
     "metadata": {},
     "output_type": "execute_result"
    }
   ],
   "source": [
    "nums=[2,5]\n",
    "target=0\n",
    "\n",
    "def targetnums(n,t):\n",
    "    l=len(nums)-1\n",
    "    c=0\n",
    "    while l>=0:\n",
    "        if nums[l]==target:\n",
    "            return l\n",
    "            \n",
    "        elif nums[l]<target:\n",
    "            return l+1\n",
    "        else:\n",
    "            l-=1\n",
    "    return 0\n",
    "            \n",
    "targetnums(nums,target)"
   ]
  },
  {
   "cell_type": "code",
   "execution_count": 35,
   "metadata": {},
   "outputs": [
    {
     "name": "stdout",
     "output_type": "stream",
     "text": [
      "False\n",
      "[{()}]\n"
     ]
    }
   ],
   "source": [
    "s=\"[{()}]\"\n",
    "l=len(s)\n",
    "if l==0:\n",
    "    print(True)\n",
    "elif l%2!=0:\n",
    "    print(False)\n",
    "else:\n",
    "    if \"()\" in s:\n",
    "        s.replace(\"()\",\"\")\n",
    "\n",
    "    # s.replace(\"{/}\",\"\")\n",
    "    # s.replace(\"[]\",\"\")\n",
    "if s==\"\":\n",
    "    print(True)\n",
    "else:\n",
    "    print(False)\n",
    "print(s)"
   ]
  },
  {
   "cell_type": "code",
   "execution_count": 40,
   "metadata": {},
   "outputs": [
    {
     "name": "stdout",
     "output_type": "stream",
     "text": [
      "\n"
     ]
    }
   ],
   "source": [
    "while len(s) > 0:\n",
    "    l = len(s)\n",
    "    s = s.replace('()','').replace('{}','').replace('[]','')\n",
    "    if l==len(s): print(False)\n",
    "print(s)\n"
   ]
  },
  {
   "cell_type": "code",
   "execution_count": 10,
   "metadata": {},
   "outputs": [
    {
     "name": "stdout",
     "output_type": "stream",
     "text": [
      "amanaplanacanalpanama\n",
      "True\n"
     ]
    }
   ],
   "source": [
    "s=\"A man, a plan, a canal: Panama\"\n",
    "s=s.lower()\n",
    "w=\"\"\n",
    "\n",
    "for i in list(s):\n",
    "    if  i.isalnum():\n",
    "        w+=i\n",
    "print(w)\n",
    "p=\"\"\n",
    "for i in list(w):\n",
    "    p=i+p\n",
    "if w==p:\n",
    "    print(True)\n",
    "else:\n",
    "    print(False)"
   ]
  },
  {
   "cell_type": "code",
   "execution_count": 3,
   "metadata": {},
   "outputs": [
    {
     "data": {
      "text/plain": [
       "1"
      ]
     },
     "execution_count": 3,
     "metadata": {},
     "output_type": "execute_result"
    }
   ],
   "source": [
    "def mySqrt(x):\n",
    "        r = (x // 2) + 1\n",
    "        for i in range(r):\n",
    "            if i * i == x:\n",
    "                return i\n",
    "            elif i * i > x:\n",
    "                return i-1\n",
    "        return i\n",
    "            \n",
    "mySqrt(2)"
   ]
  },
  {
   "cell_type": "code",
   "execution_count": 16,
   "metadata": {},
   "outputs": [
    {
     "data": {
      "text/plain": [
       "5"
      ]
     },
     "execution_count": 16,
     "metadata": {},
     "output_type": "execute_result"
    }
   ],
   "source": [
    "def fib(n):\n",
    "            if n <= 3: return n\n",
    "            else: return fib(n - 1) + fib(n - 2)\n",
    "fib(4)"
   ]
  },
  {
   "cell_type": "code",
   "execution_count": 24,
   "metadata": {},
   "outputs": [
    {
     "data": {
      "text/plain": [
       "4"
      ]
     },
     "execution_count": 24,
     "metadata": {},
     "output_type": "execute_result"
    }
   ],
   "source": [
    "def fibb(n):\n",
    "    a, b ,c = 1, 0, 0\n",
    "    for i in range(n):\n",
    "\t    a, b ,c = b, c, a + b + c\n",
    "    return c\n",
    "fibb(4)"
   ]
  },
  {
   "cell_type": "code",
   "execution_count": 20,
   "metadata": {},
   "outputs": [
    {
     "data": {
      "text/plain": [
       "1134903170"
      ]
     },
     "execution_count": 20,
     "metadata": {},
     "output_type": "execute_result"
    }
   ],
   "source": [
    "a,b=0,1\n",
    "for i in range(44):\n",
    "    c=b\n",
    "    b=a+b\n",
    "    a=c\n",
    "b"
   ]
  },
  {
   "cell_type": "code",
   "execution_count": 1,
   "metadata": {},
   "outputs": [
    {
     "data": {
      "text/plain": [
       "11"
      ]
     },
     "execution_count": 1,
     "metadata": {},
     "output_type": "execute_result"
    }
   ],
   "source": [
    "nums=[2,7,9,3,1]\n",
    "l=[]\n",
    "le=len(nums)//2\n",
    "for i in range(le):\n",
    "    if len(nums)==0:\n",
    "        print(0)\n",
    "    else:\n",
    "    \n",
    "        m1=max(nums)\n",
    "        l.append(m1)\n",
    "        i1=nums.index(m1)\n",
    "        r=i1-1\n",
    "        if r>=0:\n",
    "            for i in range(3):\n",
    "                del nums[r]\n",
    "        else:\n",
    "            for i in range(3):\n",
    "                try:\n",
    "                    del nums[0]\n",
    "                except Exception:\n",
    "                    continue\n",
    "sum(l)"
   ]
  },
  {
   "cell_type": "code",
   "execution_count": 21,
   "metadata": {},
   "outputs": [
    {
     "data": {
      "text/plain": [
       "2"
      ]
     },
     "execution_count": 21,
     "metadata": {},
     "output_type": "execute_result"
    }
   ],
   "source": [
    "n=5\n",
    "l=n+5\n",
    "c=0\n",
    "for i in range(1,l):\n",
    "    if n>=1:\n",
    "        n-=i\n",
    "        if n>=0:\n",
    "            c+=1\n",
    "        else:\n",
    "            break\n",
    "    else:\n",
    "        break\n",
    "c"
   ]
  },
  {
   "cell_type": "code",
   "execution_count": 6,
   "metadata": {},
   "outputs": [],
   "source": [
    "l1=[1,2,3,4]\n",
    "l2=[4,5,6]\n",
    "l=[]\n",
    "l=l1.extend(l2)\n",
    "l"
   ]
  },
  {
   "cell_type": "code",
   "execution_count": 13,
   "metadata": {},
   "outputs": [
    {
     "data": {
      "text/plain": [
       "'bab'"
      ]
     },
     "execution_count": 13,
     "metadata": {},
     "output_type": "execute_result"
    }
   ],
   "source": [
    "s=\"babad\"\n",
    "def pal(s):\n",
    "    l=len(s)-1\n",
    "    if s==s[::-1]:\n",
    "        return s\n",
    "    else:\n",
    "        return pal(s[:l])\n",
    "pal(s)"
   ]
  },
  {
   "cell_type": "code",
   "execution_count": 2,
   "metadata": {},
   "outputs": [
    {
     "data": {
      "text/plain": [
       "4"
      ]
     },
     "execution_count": 2,
     "metadata": {},
     "output_type": "execute_result"
    }
   ],
   "source": [
    "n=521\n",
    "def sumofstr(n):\n",
    "    n=str(n)\n",
    "    l=list(n)\n",
    "    s=0\n",
    "    for i in range(len(l)):\n",
    "        if i%2==0:\n",
    "            s+=int(l[i])\n",
    "        else:\n",
    "            s-=int(l[i])\n",
    "    return s\n",
    "sumofstr(n)"
   ]
  },
  {
   "cell_type": "code",
   "execution_count": 16,
   "metadata": {},
   "outputs": [
    {
     "name": "stdout",
     "output_type": "stream",
     "text": [
      "36\n"
     ]
    }
   ],
   "source": [
    "s=\"iiii\"\n",
    "k=1\n",
    "l=[]\n",
    "for i in range(len(s)):\n",
    "    k1=ord(s[i])-96\n",
    "    l.append(k1)\n",
    "l=[str(i) for i in l]\n",
    "w=\"\"\n",
    "for i in l:\n",
    "    w+=\"\".join(i)\n",
    "w=list(w)\n",
    "add=0\n",
    "for i in w:\n",
    "    add+=int(i)\n",
    "\n",
    "if k==1:\n",
    "    print(add)\n",
    "else:\n",
    "    def sumofnum(add,k):\n",
    "        if k>1:\n",
    "            n=0\n",
    "            lis=list(str(add))\n",
    "            for i in lis:\n",
    "                n+=int(i)\n",
    "            k-=1\n",
    "            return sumofnum(n,k)\n",
    "        else:\n",
    "            return add\n",
    "    print(sumofnum(add,k))\n",
    "\n",
    "\n",
    "\n"
   ]
  },
  {
   "cell_type": "code",
   "execution_count": 52,
   "metadata": {},
   "outputs": [
    {
     "name": "stdout",
     "output_type": "stream",
     "text": [
      "9999\n"
     ]
    },
    {
     "data": {
      "text/plain": [
       "9"
      ]
     },
     "execution_count": 52,
     "metadata": {},
     "output_type": "execute_result"
    }
   ],
   "source": [
    "s=\"iiii\"\n",
    "k=2\n",
    "s = \"\".join(str(ord(x) - ord(\"a\") + 1) for x in s)\n",
    "print(s)\n",
    "for _ in range(k):\n",
    "\ts = str(sum(int(x) for x in s))\n",
    "int(s)"
   ]
  },
  {
   "cell_type": "code",
   "execution_count": 23,
   "metadata": {},
   "outputs": [
    {
     "name": "stdout",
     "output_type": "stream",
     "text": [
      "True\n"
     ]
    }
   ],
   "source": [
    "nums=[1,2,5]\n",
    "if (nums == sorted(nums)) or nums[::-1] == sorted(nums): print(True)\n",
    "else: print(False)\n"
   ]
  },
  {
   "cell_type": "code",
   "execution_count": 2,
   "metadata": {},
   "outputs": [
    {
     "data": {
      "text/plain": [
       "{4: 'c', 5: 'o', 6: 'd', 7: 'e', 0: 'l', 2: 'e', 1: 'e', 3: 't'}"
      ]
     },
     "execution_count": 2,
     "metadata": {},
     "output_type": "execute_result"
    }
   ],
   "source": [
    "s = \"codeleet\"\n",
    "indices = [4,5,6,7,0,2,1,3]\n",
    "\n",
    "\n",
    "d=dict()\n",
    "for i in range(len(s)):\n",
    "\n",
    "    d[indices[i]]=s[i]\n",
    "d"
   ]
  },
  {
   "cell_type": "code",
   "execution_count": 7,
   "metadata": {},
   "outputs": [
    {
     "data": {
      "text/plain": [
       "'b'"
      ]
     },
     "execution_count": 7,
     "metadata": {},
     "output_type": "execute_result"
    }
   ],
   "source": []
  }
 ],
 "metadata": {
  "kernelspec": {
   "display_name": "Python 3",
   "language": "python",
   "name": "python3"
  },
  "language_info": {
   "codemirror_mode": {
    "name": "ipython",
    "version": 3
   },
   "file_extension": ".py",
   "mimetype": "text/x-python",
   "name": "python",
   "nbconvert_exporter": "python",
   "pygments_lexer": "ipython3",
   "version": "3.10.4"
  },
  "orig_nbformat": 4,
  "vscode": {
   "interpreter": {
    "hash": "2598eea10a52a07973f021d63b57c5a07672e1bf7cbcf6341d8450907144187c"
   }
  }
 },
 "nbformat": 4,
 "nbformat_minor": 2
}
